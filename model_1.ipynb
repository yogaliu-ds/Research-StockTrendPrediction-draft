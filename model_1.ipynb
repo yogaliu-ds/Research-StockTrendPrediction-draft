{
 "cells": [
  {
   "attachments": {},
   "cell_type": "markdown",
   "metadata": {},
   "source": [
    "# 0. Import and train_test_split"
   ]
  },
  {
   "attachments": {},
   "cell_type": "markdown",
   "metadata": {},
   "source": [
    "## (1) Import"
   ]
  },
  {
   "cell_type": "code",
   "execution_count": 103,
   "metadata": {},
   "outputs": [],
   "source": [
    "# Basic\n",
    "import pandas as pd\n",
    "import numpy as np\n",
    "import matplotlib.pyplot as plt\n",
    "import seaborn as sn\n",
    "\n",
    "# ML\n",
    "from sklearn.model_selection import train_test_split, GridSearchCV\n",
    "from sklearn.preprocessing import MinMaxScaler\n",
    "from sklearn.linear_model import LinearRegression, LogisticRegression\n",
    "from sklearn.ensemble import RandomForestClassifier, GradientBoostingClassifier\n",
    "\n",
    "from sklearn.metrics import classification_report, confusion_matrix\n",
    "from sklearn.pipeline import Pipeline\n",
    "\n",
    "# others\n",
    "from datetime import datetime, timedelta"
   ]
  },
  {
   "cell_type": "code",
   "execution_count": 104,
   "metadata": {},
   "outputs": [],
   "source": [
    "df = pd.read_csv('data/processed_data_for_training.csv')"
   ]
  },
  {
   "attachments": {},
   "cell_type": "markdown",
   "metadata": {},
   "source": [
    "## (2) train_test_split"
   ]
  },
  {
   "cell_type": "code",
   "execution_count": 105,
   "metadata": {},
   "outputs": [],
   "source": [
    "# 1. Set up X, y\n",
    "X = df.drop(columns=['Tomorrow_trend_cate'])\n",
    "y = df['Tomorrow_trend_cate']"
   ]
  },
  {
   "cell_type": "code",
   "execution_count": 106,
   "metadata": {},
   "outputs": [
    {
     "name": "stdout",
     "output_type": "stream",
     "text": [
      "X: (2518, 6)\n",
      "y: (2518,)\n"
     ]
    }
   ],
   "source": [
    "# Check X, y shape\n",
    "print('X:', X.shape)\n",
    "print('y:', y.shape)"
   ]
  },
  {
   "cell_type": "code",
   "execution_count": 107,
   "metadata": {},
   "outputs": [],
   "source": [
    "# 2. train_test_split\n",
    "# val dataset for final examination\n",
    "\n",
    "# Problem: Shuffle or not\n",
    "# It's panel data but the features already contain the temporal information \n",
    "\n",
    "suffle_param = True\n",
    "\n",
    "X_train, X_test, y_train, y_test = train_test_split(X, y, test_size=0.1, shuffle=suffle_param, random_state=42)\n",
    "X_train, X_val, y_train, y_val = train_test_split(X_train, y_train, test_size=0.1, shuffle=suffle_param, random_state=42)"
   ]
  },
  {
   "cell_type": "code",
   "execution_count": 108,
   "metadata": {},
   "outputs": [
    {
     "name": "stdout",
     "output_type": "stream",
     "text": [
      "X_train: (2039, 6)\n",
      "X_test: (252, 6)\n",
      "y_train: (2039,)\n",
      "y_test: (252,)\n"
     ]
    }
   ],
   "source": [
    "# Check \n",
    "print('X_train:', X_train.shape)\n",
    "print('X_test:', X_test.shape)\n",
    "print('y_train:', y_train.shape)\n",
    "print('y_test:', y_test.shape)"
   ]
  },
  {
   "attachments": {},
   "cell_type": "markdown",
   "metadata": {},
   "source": [
    "# 1. ML methods"
   ]
  },
  {
   "attachments": {},
   "cell_type": "markdown",
   "metadata": {},
   "source": [
    "Benchmark\n",
    "\n",
    "Overal Accuracy\n",
    "\n",
    "1. Logistic Regression: 0.61\n",
    "2. Random Forest: 0.63\n",
    "3. Gradient Boosting: 0.61\n",
    "\n",
    "Uptrend Accuracy\n",
    "\n",
    "1. Logistic Regression: 0.58\n",
    "2. Random Forest: 0.61\n",
    "3. Gradient Boosting: 0.59\n",
    "\n",
    "Downtrend Accuracy\n",
    "\n",
    "1. Logistic Regression: 0.66\n",
    "2. Random Forest: 0.68\n",
    "3. Gradient Boosting: 0.63\n"
   ]
  },
  {
   "attachments": {},
   "cell_type": "markdown",
   "metadata": {},
   "source": [
    "## (0) Before training, Check some numbers\n"
   ]
  },
  {
   "cell_type": "code",
   "execution_count": 109,
   "metadata": {},
   "outputs": [],
   "source": [
    "# min()"
   ]
  },
  {
   "cell_type": "code",
   "execution_count": 110,
   "metadata": {},
   "outputs": [
    {
     "name": "stdout",
     "output_type": "stream",
     "text": [
      "Time Period\n",
      "Sample size: 2518\n",
      "Feature: 6\n",
      "['High' 'Close' 'Sma' 'title_sentiment_score' 'title_midterm_sentiment'\n",
      " 'title_longterm_sentiment'] \n",
      "\n",
      "Target: Tomorrow_trend_cate \n",
      "\n",
      "Train: Test: Val = 0.81: 0.1: 0.09= 2039 252 227\n"
     ]
    }
   ],
   "source": [
    "# Time period\n",
    "print('Time Period')\n",
    "# print('From:', time_start)\n",
    "# print('To:', time_end, '\\n')\n",
    "\n",
    "# Sample size\n",
    "print('Sample size:', X.shape[0])\n",
    "print('Feature:', X.shape[1])\n",
    "print(X.columns.values, '\\n')\n",
    "print('Target:', y.name, '\\n')\n",
    "print('Train: Test: Val = 0.81: 0.1: 0.09=', X_train.shape[0], X_test.shape[0], X_val.shape[0])"
   ]
  },
  {
   "attachments": {},
   "cell_type": "markdown",
   "metadata": {},
   "source": [
    "## (1) Logistic Regression"
   ]
  },
  {
   "cell_type": "code",
   "execution_count": 111,
   "metadata": {},
   "outputs": [
    {
     "data": {
      "text/plain": [
       "Pipeline(steps=[('scaler', MinMaxScaler()),\n",
       "                ('classifier',\n",
       "                 LogisticRegression(multi_class='multinomial',\n",
       "                                    random_state=42))])"
      ]
     },
     "execution_count": 111,
     "metadata": {},
     "output_type": "execute_result"
    }
   ],
   "source": [
    "model = LogisticRegression(multi_class='multinomial', random_state=42)\n",
    "\n",
    "pipeline = Pipeline([('scaler', MinMaxScaler()), ('classifier', model)])\n",
    "\n",
    "# Don't forget. fit doesn't accept string input\n",
    "pipeline.fit(X_train, y_train)"
   ]
  },
  {
   "cell_type": "code",
   "execution_count": 112,
   "metadata": {},
   "outputs": [
    {
     "name": "stdout",
     "output_type": "stream",
     "text": [
      "Overall Accuracy:\n",
      "Training Accuracy: 0.5384992643452673\n",
      "Testing Accuracy: 0.5317460317460317 \n",
      "\n",
      "===========================\n",
      "Training Result:\n",
      "              precision    recall  f1-score   support\n",
      "\n",
      "           0       0.00      0.00      0.00       941\n",
      "           1       0.54      1.00      0.70      1098\n",
      "\n",
      "    accuracy                           0.54      2039\n",
      "   macro avg       0.27      0.50      0.35      2039\n",
      "weighted avg       0.29      0.54      0.38      2039\n",
      "\n",
      "[[   0  941]\n",
      " [   0 1098]] \n",
      "\n",
      "===========================\n",
      "Testing Result:\n",
      "              precision    recall  f1-score   support\n",
      "\n",
      "           0       0.00      0.00      0.00       118\n",
      "           1       0.53      1.00      0.69       134\n",
      "\n",
      "    accuracy                           0.53       252\n",
      "   macro avg       0.27      0.50      0.35       252\n",
      "weighted avg       0.28      0.53      0.37       252\n",
      "\n",
      "[[  0 118]\n",
      " [  0 134]]\n"
     ]
    },
    {
     "name": "stderr",
     "output_type": "stream",
     "text": [
      "c:\\Users\\denne\\anaconda3\\lib\\site-packages\\sklearn\\metrics\\_classification.py:1318: UndefinedMetricWarning: Precision and F-score are ill-defined and being set to 0.0 in labels with no predicted samples. Use `zero_division` parameter to control this behavior.\n",
      "  _warn_prf(average, modifier, msg_start, len(result))\n",
      "c:\\Users\\denne\\anaconda3\\lib\\site-packages\\sklearn\\metrics\\_classification.py:1318: UndefinedMetricWarning: Precision and F-score are ill-defined and being set to 0.0 in labels with no predicted samples. Use `zero_division` parameter to control this behavior.\n",
      "  _warn_prf(average, modifier, msg_start, len(result))\n",
      "c:\\Users\\denne\\anaconda3\\lib\\site-packages\\sklearn\\metrics\\_classification.py:1318: UndefinedMetricWarning: Precision and F-score are ill-defined and being set to 0.0 in labels with no predicted samples. Use `zero_division` parameter to control this behavior.\n",
      "  _warn_prf(average, modifier, msg_start, len(result))\n",
      "c:\\Users\\denne\\anaconda3\\lib\\site-packages\\sklearn\\metrics\\_classification.py:1318: UndefinedMetricWarning: Precision and F-score are ill-defined and being set to 0.0 in labels with no predicted samples. Use `zero_division` parameter to control this behavior.\n",
      "  _warn_prf(average, modifier, msg_start, len(result))\n",
      "c:\\Users\\denne\\anaconda3\\lib\\site-packages\\sklearn\\metrics\\_classification.py:1318: UndefinedMetricWarning: Precision and F-score are ill-defined and being set to 0.0 in labels with no predicted samples. Use `zero_division` parameter to control this behavior.\n",
      "  _warn_prf(average, modifier, msg_start, len(result))\n",
      "c:\\Users\\denne\\anaconda3\\lib\\site-packages\\sklearn\\metrics\\_classification.py:1318: UndefinedMetricWarning: Precision and F-score are ill-defined and being set to 0.0 in labels with no predicted samples. Use `zero_division` parameter to control this behavior.\n",
      "  _warn_prf(average, modifier, msg_start, len(result))\n"
     ]
    }
   ],
   "source": [
    "# Evaluation\n",
    "\n",
    "# Accuracy\n",
    "print('Overall Accuracy:')\n",
    "score_train = pipeline.score(X_train, y_train)\n",
    "score_test = pipeline.score(X_test, y_test)\n",
    "print('Training Accuracy:', score_train)\n",
    "print('Testing Accuracy:', score_test, '\\n')\n",
    "\n",
    "# Train confusion matrix\n",
    "y_pred = pipeline.predict(X_train)\n",
    "\n",
    "print('===========================')\n",
    "print('Training Result:')\n",
    "print(classification_report(y_train, y_pred))\n",
    "print(confusion_matrix(y_train, y_pred), '\\n')\n",
    "\n",
    "# Test confusion matrix\n",
    "y_pred = pipeline.predict(X_test)\n",
    "\n",
    "print('===========================')\n",
    "print('Testing Result:')\n",
    "print(classification_report(y_test, y_pred))\n",
    "print(confusion_matrix(y_test, y_pred))"
   ]
  },
  {
   "attachments": {},
   "cell_type": "markdown",
   "metadata": {},
   "source": [
    "## (2) Random Forest"
   ]
  },
  {
   "cell_type": "code",
   "execution_count": 113,
   "metadata": {},
   "outputs": [
    {
     "data": {
      "text/plain": [
       "GridSearchCV(estimator=Pipeline(steps=[('scaler', MinMaxScaler()),\n",
       "                                       ('classifier',\n",
       "                                        RandomForestClassifier(random_state=42))]),\n",
       "             param_grid=[{'classifier__n_estimators': [50, 100, 500, 1000]},\n",
       "                         {'classifier__max_depth': [1, 5, 10, 25]},\n",
       "                         {'classifier__max_features': [0.1, 0.2,\n",
       "                                                       0.30000000000000004, 0.4,\n",
       "                                                       0.5, 0.6,\n",
       "                                                       0.7000000000000001, 0.8,\n",
       "                                                       0.9, 1.0]}])"
      ]
     },
     "execution_count": 113,
     "metadata": {},
     "output_type": "execute_result"
    }
   ],
   "source": [
    "model = RandomForestClassifier(random_state=42)\n",
    "pipeline = Pipeline([('scaler', MinMaxScaler()), ('classifier', model)])\n",
    "\n",
    "# parameter\n",
    "param_grid = [\n",
    "    {'classifier__n_estimators': [50, 100, 500, 1000]},\n",
    "    {'classifier__max_depth': [1, 5, 10, 25]},\n",
    "    {'classifier__max_features': [*np.arange(0.1, 1.1, 0.1)]}\n",
    "]\n",
    "\n",
    "gridsearch = GridSearchCV(pipeline, param_grid)\n",
    "\n",
    "gridsearch.fit(X_train, y_train)"
   ]
  },
  {
   "cell_type": "code",
   "execution_count": 114,
   "metadata": {},
   "outputs": [
    {
     "name": "stdout",
     "output_type": "stream",
     "text": [
      "Overall Accuracy:\n",
      "Training Accuracy: 0.5473271211378127\n",
      "Testing Accuracy: 0.5357142857142857 \n",
      "\n",
      "===========================\n",
      "Training Result:\n",
      "              precision    recall  f1-score   support\n",
      "\n",
      "           0       0.72      0.03      0.06       941\n",
      "           1       0.54      0.99      0.70      1098\n",
      "\n",
      "    accuracy                           0.55      2039\n",
      "   macro avg       0.63      0.51      0.38      2039\n",
      "weighted avg       0.63      0.55      0.41      2039\n",
      "\n",
      "[[  29  912]\n",
      " [  11 1087]] \n",
      "\n",
      "===========================\n",
      "Testing Result:\n",
      "              precision    recall  f1-score   support\n",
      "\n",
      "           0       0.60      0.03      0.05       118\n",
      "           1       0.53      0.99      0.69       134\n",
      "\n",
      "    accuracy                           0.54       252\n",
      "   macro avg       0.57      0.51      0.37       252\n",
      "weighted avg       0.57      0.54      0.39       252\n",
      "\n",
      "[[  3 115]\n",
      " [  2 132]]\n"
     ]
    }
   ],
   "source": [
    "# Evaluation\n",
    "\n",
    "# Accuracy\n",
    "print('Overall Accuracy:')\n",
    "score_train = gridsearch.score(X_train, y_train)\n",
    "score_test = gridsearch.score(X_test, y_test)\n",
    "print('Training Accuracy:', score_train)\n",
    "print('Testing Accuracy:', score_test, '\\n')\n",
    "\n",
    "# Train confusion matrix\n",
    "y_pred = gridsearch.predict(X_train)\n",
    "\n",
    "print('===========================')\n",
    "print('Training Result:')\n",
    "print(classification_report(y_train, y_pred))\n",
    "print(confusion_matrix(y_train, y_pred), '\\n')\n",
    "\n",
    "# Test confusion matrix\n",
    "y_pred = gridsearch.predict(X_test)\n",
    "\n",
    "print('===========================')\n",
    "print('Testing Result:')\n",
    "print(classification_report(y_test, y_pred))\n",
    "print(confusion_matrix(y_test, y_pred))"
   ]
  },
  {
   "attachments": {},
   "cell_type": "markdown",
   "metadata": {},
   "source": [
    "## (3) Gradient Boosting"
   ]
  },
  {
   "cell_type": "code",
   "execution_count": 115,
   "metadata": {},
   "outputs": [
    {
     "data": {
      "text/plain": [
       "GridSearchCV(estimator=Pipeline(steps=[('scaler', MinMaxScaler()),\n",
       "                                       ('classifier',\n",
       "                                        GradientBoostingClassifier(random_state=42))]),\n",
       "             param_grid=[{'classifier__n_estimators': [100]}])"
      ]
     },
     "execution_count": 115,
     "metadata": {},
     "output_type": "execute_result"
    }
   ],
   "source": [
    "# Train\n",
    "model = GradientBoostingClassifier(random_state=42)\n",
    "pipeline = Pipeline([('scaler', MinMaxScaler()), ('classifier', model)])\n",
    "\n",
    "# parameter\n",
    "param_grid = [\n",
    "    # {\"classifier__learning_rate\": [0.01, 0.025, 0.05, 0.075, 0.1, 0.15, 0.2]},\n",
    "    # {\"classifier__min_samples_split\": np.linspace(0.1, 0.5, 12)},\n",
    "    # {\"classifier__min_samples_leaf\": np.linspace(0.1, 0.5, 12)},\n",
    "    # {\"classifier__max_depth\":[3,5,8]},\n",
    "    # {\"classifier__max_features\":[\"log2\",\"sqrt\"]},\n",
    "    # {\"classifier__criterion\": [\"friedman_mse\",  \"absolute_error\"]},\n",
    "    # {\"classifier__subsample\":[0.5, 0.618, 0.8, 0.85, 0.9, 0.95, 1.0]},\n",
    "    {\"classifier__n_estimators\":[100]}\n",
    "    ]\n",
    "\n",
    "gridsearch = GridSearchCV(pipeline, param_grid)\n",
    "\n",
    "gridsearch.fit(X_train, y_train)"
   ]
  },
  {
   "cell_type": "code",
   "execution_count": 116,
   "metadata": {},
   "outputs": [
    {
     "name": "stdout",
     "output_type": "stream",
     "text": [
      "Overall Accuracy:\n",
      "Training Accuracy: 0.704757233938205\n",
      "Testing Accuracy: 0.5238095238095238 \n",
      "\n",
      "===========================\n",
      "Training Result:\n",
      "              precision    recall  f1-score   support\n",
      "\n",
      "           0       0.85      0.44      0.58       941\n",
      "           1       0.66      0.93      0.77      1098\n",
      "\n",
      "    accuracy                           0.70      2039\n",
      "   macro avg       0.75      0.69      0.68      2039\n",
      "weighted avg       0.75      0.70      0.68      2039\n",
      "\n",
      "[[ 412  529]\n",
      " [  73 1025]] \n",
      "\n",
      "===========================\n",
      "Testing Result:\n",
      "              precision    recall  f1-score   support\n",
      "\n",
      "           0       0.49      0.28      0.35       118\n",
      "           1       0.54      0.74      0.62       134\n",
      "\n",
      "    accuracy                           0.52       252\n",
      "   macro avg       0.51      0.51      0.49       252\n",
      "weighted avg       0.51      0.52      0.50       252\n",
      "\n",
      "[[33 85]\n",
      " [35 99]]\n"
     ]
    }
   ],
   "source": [
    "# Evaluation\n",
    "\n",
    "# Accuracy\n",
    "print('Overall Accuracy:')\n",
    "score_train = gridsearch.score(X_train, y_train)\n",
    "score_test = gridsearch.score(X_test, y_test)\n",
    "print('Training Accuracy:', score_train)\n",
    "print('Testing Accuracy:', score_test, '\\n')\n",
    "\n",
    "# Train confusion matrix\n",
    "y_pred = gridsearch.predict(X_train)\n",
    "\n",
    "print('===========================')\n",
    "print('Training Result:')\n",
    "print(classification_report(y_train, y_pred))\n",
    "print(confusion_matrix(y_train, y_pred), '\\n')\n",
    "\n",
    "# Test confusion matrix\n",
    "y_pred = gridsearch.predict(X_test)\n",
    "\n",
    "print('===========================')\n",
    "print('Testing Result:')\n",
    "print(classification_report(y_test, y_pred))\n",
    "print(confusion_matrix(y_test, y_pred))"
   ]
  },
  {
   "attachments": {},
   "cell_type": "markdown",
   "metadata": {},
   "source": [
    "# 2. Evaluation"
   ]
  }
 ],
 "metadata": {
  "kernelspec": {
   "display_name": "base",
   "language": "python",
   "name": "python3"
  },
  "language_info": {
   "codemirror_mode": {
    "name": "ipython",
    "version": 3
   },
   "file_extension": ".py",
   "mimetype": "text/x-python",
   "name": "python",
   "nbconvert_exporter": "python",
   "pygments_lexer": "ipython3",
   "version": "3.9.13"
  },
  "orig_nbformat": 4
 },
 "nbformat": 4,
 "nbformat_minor": 2
}
