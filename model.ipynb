{
 "cells": [
  {
   "cell_type": "code",
   "execution_count": null,
   "metadata": {},
   "outputs": [],
   "source": []
  },
  {
   "attachments": {},
   "cell_type": "markdown",
   "metadata": {},
   "source": [
    "# 1. ML methods"
   ]
  },
  {
   "attachments": {},
   "cell_type": "markdown",
   "metadata": {},
   "source": [
    "Benchmark\n",
    "\n",
    "Overal Accuracy\n",
    "\n",
    "1. Logistic Regression: 0.61\n",
    "2. Random Forest: 0.63\n",
    "3. Gradient Boosting: 0.61\n",
    "\n",
    "Uptrend Accuracy\n",
    "\n",
    "1. Logistic Regression: 0.58\n",
    "2. Random Forest: 0.61\n",
    "3. Gradient Boosting: 0.59\n",
    "\n",
    "Downtrend Accuracy\n",
    "\n",
    "1. Logistic Regression: 0.66\n",
    "2. Random Forest: 0.68\n",
    "3. Gradient Boosting: 0.63\n"
   ]
  },
  {
   "attachments": {},
   "cell_type": "markdown",
   "metadata": {},
   "source": [
    "## (0) Before training, Check some numbers\n"
   ]
  },
  {
   "cell_type": "code",
   "execution_count": null,
   "metadata": {},
   "outputs": [
    {
     "name": "stdout",
     "output_type": "stream",
     "text": [
      "Time Period\n",
      "From: 2013-01-01T00:00:00\n",
      "To: 2022-12-31T00:00:00 \n",
      "\n",
      "Sample size: 2518\n",
      "Feature: 10\n",
      "['Today_trend' 'Sma' 'Rsi' 'Kd' 'Ema_12' 'Ema_26' 'Macd'\n",
      " 'title_sentiment_score' 'title_midterm_sentiment'\n",
      " 'title_longterm_sentiment'] \n",
      "\n",
      "Target: Tomorrow_trend_cate \n",
      "\n",
      "Train: Test: Val = 0.81: 0.1: 0.09= 2039 252 227\n"
     ]
    }
   ],
   "source": [
    "# Time period\n",
    "print('Time Period')\n",
    "print('From:', time_start)\n",
    "print('To:', time_end, '\\n')\n",
    "\n",
    "# Sample size\n",
    "print('Sample size:', X.shape[0])\n",
    "print('Feature:', X.shape[1])\n",
    "print(X.columns.values, '\\n')\n",
    "print('Target:', y.name, '\\n')\n",
    "print('Train: Test: Val = 0.81: 0.1: 0.09=', X_train.shape[0], X_test.shape[0], X_val.shape[0])"
   ]
  },
  {
   "attachments": {},
   "cell_type": "markdown",
   "metadata": {},
   "source": [
    "## (1) Logistic Regression"
   ]
  },
  {
   "cell_type": "code",
   "execution_count": null,
   "metadata": {},
   "outputs": [
    {
     "data": {
      "text/plain": [
       "Pipeline(steps=[('scaler', MinMaxScaler()),\n",
       "                ('classifier',\n",
       "                 LogisticRegression(multi_class='multinomial',\n",
       "                                    random_state=42))])"
      ]
     },
     "metadata": {},
     "output_type": "display_data"
    }
   ],
   "source": [
    "model = LogisticRegression(multi_class='multinomial', random_state=42)\n",
    "\n",
    "pipeline = Pipeline([('scaler', MinMaxScaler()), ('classifier', model)])\n",
    "\n",
    "# Don't forget. fit doesn't accept string input\n",
    "pipeline.fit(X_train, y_train)"
   ]
  },
  {
   "cell_type": "code",
   "execution_count": null,
   "metadata": {},
   "outputs": [
    {
     "name": "stdout",
     "output_type": "stream",
     "text": [
      "Overall Accuracy:\n",
      "Training Accuracy: 0.5463462481608632\n",
      "Testing Accuracy: 0.5476190476190477 \n",
      "\n",
      "===========================\n",
      "Training Result:\n",
      "              precision    recall  f1-score   support\n",
      "\n",
      "           0       0.52      0.18      0.27       941\n",
      "           1       0.55      0.86      0.67      1098\n",
      "\n",
      "    accuracy                           0.55      2039\n",
      "   macro avg       0.54      0.52      0.47      2039\n",
      "weighted avg       0.54      0.55      0.49      2039\n",
      "\n",
      "[[173 768]\n",
      " [157 941]] \n",
      "\n",
      "===========================\n",
      "Testing Result:\n",
      "              precision    recall  f1-score   support\n",
      "\n",
      "           0       0.56      0.16      0.25       118\n",
      "           1       0.55      0.89      0.68       134\n",
      "\n",
      "    accuracy                           0.55       252\n",
      "   macro avg       0.55      0.52      0.46       252\n",
      "weighted avg       0.55      0.55      0.48       252\n",
      "\n",
      "[[ 19  99]\n",
      " [ 15 119]]\n"
     ]
    }
   ],
   "source": [
    "# Evaluation\n",
    "\n",
    "# Accuracy\n",
    "print('Overall Accuracy:')\n",
    "score_train = pipeline.score(X_train, y_train)\n",
    "score_test = pipeline.score(X_test, y_test)\n",
    "print('Training Accuracy:', score_train)\n",
    "print('Testing Accuracy:', score_test, '\\n')\n",
    "\n",
    "# Train confusion matrix\n",
    "y_pred = pipeline.predict(X_train)\n",
    "\n",
    "print('===========================')\n",
    "print('Training Result:')\n",
    "print(classification_report(y_train, y_pred))\n",
    "print(confusion_matrix(y_train, y_pred), '\\n')\n",
    "\n",
    "# Test confusion matrix\n",
    "y_pred = pipeline.predict(X_test)\n",
    "\n",
    "print('===========================')\n",
    "print('Testing Result:')\n",
    "print(classification_report(y_test, y_pred))\n",
    "print(confusion_matrix(y_test, y_pred))"
   ]
  },
  {
   "attachments": {},
   "cell_type": "markdown",
   "metadata": {},
   "source": [
    "## (2) Random Forest"
   ]
  },
  {
   "cell_type": "code",
   "execution_count": null,
   "metadata": {},
   "outputs": [
    {
     "data": {
      "text/plain": [
       "GridSearchCV(estimator=Pipeline(steps=[('scaler', MinMaxScaler()),\n",
       "                                       ('classifier',\n",
       "                                        RandomForestClassifier(random_state=42))]),\n",
       "             param_grid=[{'classifier__n_estimators': [50, 100, 500, 1000]},\n",
       "                         {'classifier__max_depth': [1, 5, 10, 25]},\n",
       "                         {'classifier__max_features': [0.1, 0.2,\n",
       "                                                       0.30000000000000004, 0.4,\n",
       "                                                       0.5, 0.6,\n",
       "                                                       0.7000000000000001, 0.8,\n",
       "                                                       0.9, 1.0]}])"
      ]
     },
     "metadata": {},
     "output_type": "display_data"
    }
   ],
   "source": [
    "model = RandomForestClassifier(random_state=42)\n",
    "pipeline = Pipeline([('scaler', MinMaxScaler()), ('classifier', model)])\n",
    "\n",
    "# parameter\n",
    "param_grid = [\n",
    "    {'classifier__n_estimators': [50, 100, 500, 1000]},\n",
    "    {'classifier__max_depth': [1, 5, 10, 25]},\n",
    "    {'classifier__max_features': [*np.arange(0.1, 1.1, 0.1)]}\n",
    "]\n",
    "\n",
    "gridsearch = GridSearchCV(pipeline, param_grid)\n",
    "\n",
    "gridsearch.fit(X_train, y_train)"
   ]
  },
  {
   "cell_type": "code",
   "execution_count": null,
   "metadata": {},
   "outputs": [
    {
     "name": "stdout",
     "output_type": "stream",
     "text": [
      "Overall Accuracy:\n",
      "Training Accuracy: 0.5468366846493379\n",
      "Testing Accuracy: 0.5515873015873016 \n",
      "\n",
      "===========================\n",
      "Training Result:\n",
      "              precision    recall  f1-score   support\n",
      "\n",
      "           0       0.64      0.04      0.08       941\n",
      "           1       0.54      0.98      0.70      1098\n",
      "\n",
      "    accuracy                           0.55      2039\n",
      "   macro avg       0.59      0.51      0.39      2039\n",
      "weighted avg       0.59      0.55      0.41      2039\n",
      "\n",
      "[[  39  902]\n",
      " [  22 1076]] \n",
      "\n",
      "===========================\n",
      "Testing Result:\n",
      "              precision    recall  f1-score   support\n",
      "\n",
      "           0       0.78      0.06      0.11       118\n",
      "           1       0.54      0.99      0.70       134\n",
      "\n",
      "    accuracy                           0.55       252\n",
      "   macro avg       0.66      0.52      0.41       252\n",
      "weighted avg       0.65      0.55      0.42       252\n",
      "\n",
      "[[  7 111]\n",
      " [  2 132]]\n"
     ]
    }
   ],
   "source": [
    "# Evaluation\n",
    "\n",
    "# Accuracy\n",
    "print('Overall Accuracy:')\n",
    "score_train = gridsearch.score(X_train, y_train)\n",
    "score_test = gridsearch.score(X_test, y_test)\n",
    "print('Training Accuracy:', score_train)\n",
    "print('Testing Accuracy:', score_test, '\\n')\n",
    "\n",
    "# Train confusion matrix\n",
    "y_pred = gridsearch.predict(X_train)\n",
    "\n",
    "print('===========================')\n",
    "print('Training Result:')\n",
    "print(classification_report(y_train, y_pred))\n",
    "print(confusion_matrix(y_train, y_pred), '\\n')\n",
    "\n",
    "# Test confusion matrix\n",
    "y_pred = gridsearch.predict(X_test)\n",
    "\n",
    "print('===========================')\n",
    "print('Testing Result:')\n",
    "print(classification_report(y_test, y_pred))\n",
    "print(confusion_matrix(y_test, y_pred))"
   ]
  },
  {
   "attachments": {},
   "cell_type": "markdown",
   "metadata": {},
   "source": [
    "## (3) Gradient Boosting"
   ]
  },
  {
   "cell_type": "code",
   "execution_count": null,
   "metadata": {},
   "outputs": [
    {
     "data": {
      "text/plain": [
       "GridSearchCV(estimator=Pipeline(steps=[('scaler', MinMaxScaler()),\n",
       "                                       ('classifier',\n",
       "                                        GradientBoostingClassifier(random_state=42))]),\n",
       "             param_grid=[{'classifier__n_estimators': [100]}])"
      ]
     },
     "metadata": {},
     "output_type": "display_data"
    }
   ],
   "source": [
    "# Train\n",
    "model = GradientBoostingClassifier(random_state=42)\n",
    "pipeline = Pipeline([('scaler', MinMaxScaler()), ('classifier', model)])\n",
    "\n",
    "# parameter\n",
    "param_grid = [\n",
    "    # {\"classifier__learning_rate\": [0.01, 0.025, 0.05, 0.075, 0.1, 0.15, 0.2]},\n",
    "    # {\"classifier__min_samples_split\": np.linspace(0.1, 0.5, 12)},\n",
    "    # {\"classifier__min_samples_leaf\": np.linspace(0.1, 0.5, 12)},\n",
    "    # {\"classifier__max_depth\":[3,5,8]},\n",
    "    # {\"classifier__max_features\":[\"log2\",\"sqrt\"]},\n",
    "    # {\"classifier__criterion\": [\"friedman_mse\",  \"absolute_error\"]},\n",
    "    # {\"classifier__subsample\":[0.5, 0.618, 0.8, 0.85, 0.9, 0.95, 1.0]},\n",
    "    {\"classifier__n_estimators\":[100]}\n",
    "    ]\n",
    "\n",
    "gridsearch = GridSearchCV(pipeline, param_grid)\n",
    "\n",
    "gridsearch.fit(X_train, y_train)"
   ]
  },
  {
   "cell_type": "code",
   "execution_count": null,
   "metadata": {},
   "outputs": [
    {
     "name": "stdout",
     "output_type": "stream",
     "text": [
      "Overall Accuracy:\n",
      "Training Accuracy: 0.7435017165277097\n",
      "Testing Accuracy: 0.5833333333333334 \n",
      "\n",
      "===========================\n",
      "Training Result:\n",
      "              precision    recall  f1-score   support\n",
      "\n",
      "           0       0.82      0.57      0.67       941\n",
      "           1       0.71      0.89      0.79      1098\n",
      "\n",
      "    accuracy                           0.74      2039\n",
      "   macro avg       0.76      0.73      0.73      2039\n",
      "weighted avg       0.76      0.74      0.74      2039\n",
      "\n",
      "[[540 401]\n",
      " [122 976]] \n",
      "\n",
      "===========================\n",
      "Testing Result:\n",
      "              precision    recall  f1-score   support\n",
      "\n",
      "           0       0.58      0.40      0.47       118\n",
      "           1       0.58      0.75      0.66       134\n",
      "\n",
      "    accuracy                           0.58       252\n",
      "   macro avg       0.58      0.57      0.56       252\n",
      "weighted avg       0.58      0.58      0.57       252\n",
      "\n",
      "[[ 47  71]\n",
      " [ 34 100]]\n"
     ]
    }
   ],
   "source": [
    "# Evaluation\n",
    "\n",
    "# Accuracy\n",
    "print('Overall Accuracy:')\n",
    "score_train = gridsearch.score(X_train, y_train)\n",
    "score_test = gridsearch.score(X_test, y_test)\n",
    "print('Training Accuracy:', score_train)\n",
    "print('Testing Accuracy:', score_test, '\\n')\n",
    "\n",
    "# Train confusion matrix\n",
    "y_pred = gridsearch.predict(X_train)\n",
    "\n",
    "print('===========================')\n",
    "print('Training Result:')\n",
    "print(classification_report(y_train, y_pred))\n",
    "print(confusion_matrix(y_train, y_pred), '\\n')\n",
    "\n",
    "# Test confusion matrix\n",
    "y_pred = gridsearch.predict(X_test)\n",
    "\n",
    "print('===========================')\n",
    "print('Testing Result:')\n",
    "print(classification_report(y_test, y_pred))\n",
    "print(confusion_matrix(y_test, y_pred))"
   ]
  },
  {
   "attachments": {},
   "cell_type": "markdown",
   "metadata": {},
   "source": [
    "# 2. Evaluation"
   ]
  }
 ],
 "metadata": {
  "language_info": {
   "name": "python"
  },
  "orig_nbformat": 4
 },
 "nbformat": 4,
 "nbformat_minor": 2
}
